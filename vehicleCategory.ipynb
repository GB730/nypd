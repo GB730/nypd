{
 "cells": [
  {
   "cell_type": "code",
   "execution_count": 1,
   "metadata": {},
   "outputs": [
    {
     "name": "stdout",
     "output_type": "stream",
     "text": [
      "['FLAT', 'BUDGE', 'FLAT BED', 'CO', 'COM', 'COM T', 'COM.', 'COMB', 'COMER', 'COMM', 'COMM.', 'COMME', 'TANKE', 'FLAT RACK', 'CARGO', 'FLAT/', 'FLATB', 'FREIG', 'FRHT', 'FRIEG', 'FB', 'HINO', '2 TON', '35 FT', 'DIESE', 'MULTI-WHEELED VEHICLE', 'SEMI', 'SEMI-', 'MOVIN', 'OIL T', 'TANKER', 'TANK', 'TRACTOR TRUCK GASOLINE', 'RYDER', 'SMALL COM VEH(4 TIRES)', 'LARGE COM VEH(6 OR MORE TIRES)', 'COMMM', 'TRAC', 'TRAC.', 'TRACK', 'TRACT', 'TRACTOR TRUCK DIESEL', 'TRL', 'TRLPM', 'TRLR', '\\x7fOMM']\n"
     ]
    }
   ],
   "source": [
    "import numpy as np\n",
    "\n",
    "cat_dict = { \"OTHERS\" : ['1','12 PA','15 PA','2015','315 E','985', '99999', 'ACCES','ATTAC', 'BA', 'BACK', 'BACKH','BARRI','BOAT', 'BOBCA','BR', 'BS','BTM','BU', 'BULK AGRICULTURE',\n",
    " 'C1','C3','CABIN','CAMP','CARRY ALL', 'CART','CATE','CB','CHERR','CITY','CUSHM', 'DEMA-','DP', 'DS', 'DSNY', 'DUNBA', 'EAST', 'EN', 'ENCLOSED BODY - NONREMOVABLE ENCLOSURE', \n",
    "'ENCLOSED BODY - REMOVABLE ENCLOSURE', 'EPO', 'ESU T','FR', 'FRE', 'FREE','FRONT', 'FR`', 'FUEL', 'G COM', 'G SPC', 'G1`', 'GARBA',\n",
    "'GARBAGE OR REFUSE', 'GATOR', 'GE/SC', 'GEICO', 'GG', 'GLASS RACK', 'GOKAR',\n",
    " 'GR', 'GRAIN', 'GRAY', 'GRUMM', 'H/WH', 'HAND', 'HEAVY', 'HELP', 'HI TA','MOTER',\n",
    " 'HO', 'HOPPER', 'HORSE', 'HRSE', 'HUMME', 'HWY C', 'ICE C', 'ICECR','KUBOT', 'L1', 'LADDE','LD', 'LF', 'LIBER', 'LIEBH', 'LIGHT', 'LIVESTOCK RACK', 'LL', 'LMB', 'LOADE', 'LOG', 'LP', 'LTR', 'LTRL', \n",
    "'LW', 'MARK', 'MARKE', 'MAXIM', 'MB', 'MC', 'MCY','MCY B', 'MD', 'ME/BE', 'MH', 'MILLI','MK', 'MO PA','MTR S', \n",
    "'MOBIL','MOTOR','MOTOR HOME','MS','NAVIG', 'NEW Y', 'NISSA', 'NONE', 'NS AM', 'NTTRL', 'OLC', 'OML',\n",
    "'OMR', 'OMT','OTHER', 'P/SE', 'P/SH', 'PALLET', 'PARCE',  'PAYLO', 'PC', 'PEDIC', 'PEDICAB','PL', 'PM', 'POIS',\n",
    "'POWER', 'PRKS', 'PSD', 'PSH', 'PSR', 'PU', 'PUMP','R/V', 'R/V C', 'RANGE', 'RD/S', 'RED T', 'REFG', 'REFRI', 'RENTA',\n",
    "'REP', 'REPAI', 'RESCU', 'RF', 'RMB', 'RMP', 'RMP V', 'ROAD', 'RV', 'RV/TR','SANIT', 'SANTA', 'SANTI', 'SC','SCISS','SEAGR','SELF','SKATE', 'SKID-','SMART','SP', \n",
    "'SPC', 'SPC P', 'SPEC', 'SPRIN', 'SS', 'ST', 'STAK', 'STAKE OR RACK', 'STATE', 'SYBN', 'TCN', 'TE', 'TF', 'TIR', 'TK', 'TN', 'TRAFF','TRAIL','TRAM',\n",
    "'TRC', 'TT',  'U.S.', 'VC', 'VERIZ', 'VN', 'VOL', 'VT',  'WD', 'WHBL','WHEEL', 'WHITE', 'WINEB', 'WINNE','UT','ULILI', 'UTIL', 'UTILI', 'UTV','WAGON','GOLF'],\n",
    "\"DEPT VEH\" :['APORT', 'APPOR', 'AR','DEPT','PORTA','GOVER','NYC A', 'NYC B','NYC D', 'NYC F', 'NYC M', 'NYCHA', 'NYPD', 'NYS A','DOT R', 'DOT T','MTA', 'MTA B', 'MTA C', 'MTA T'],\n",
    "\"EMERGENCY VEH\" :['Ï¿½MBU','AM', 'AMABU','AMB', 'AMBU', 'AMBUL', 'AMBULANCE','A', 'ABULA','E AMB','E.M.S','E - B','POLIC', 'EMRGN', 'EMS A', 'EMS B', 'EMS H','ENGIN','FD FI', 'FD NY', 'FD TR', 'FDNY','FIRE TRUCK','FIRE', 'FIRET','STREE',  'SW', 'SWEEP'],\n",
    "\"CONSTRUCTION VEH\" :['BULLD','CEMEN','CM', 'CMIX','COMIX','CONCR','CAT 9', 'CAT P','(CEME','INTER','IP','BOOM','JOHN', 'KENWO','BUCKE',\n",
    "           'CAT.','CONCRETE MIXER','EXCAV','DIRT','DIRTB','DOLLY','LIFT', 'MAC T', 'MACK','LIFT BOOM','CONST', 'CONT','FORK', 'FORK-', 'FORKL','WELL DRILLER','WORK','SNOW PLOW','SNOW','CRANE'], \n",
    "\"DELV VEH\" :['DEL', 'DELIV', 'DELV', 'DELVI', 'FOOD','CMS-T','CATER','VAN','VAN (', 'VAN C', 'VAN CAMPER', 'VAN T', 'VAN/T', 'REFRIGERATED VAN','VANG', 'VAV'],\n",
    "\"BICYCLE\" :['BICYC', 'BICYCLE', 'BIKE', 'BK','MINICYCLE'],\n",
    "\"MOTORCYCLE\" :['MOTORBIKE', 'MOTORCYCLE','MINIBIKE'],\n",
    "\"SEDAN\": ['4WHEE','2 DR SEDAN','4 DR SEDAN','SEDAN','4D','E450', '4DS', '4DSD','SE', 'SEA', '4WHEE','ST150','CONV', 'CONVE', 'CONVERTIBLE', 'COUPE'],\n",
    "\"TRUCK\" : ['AR', 'ARMOR', 'ARMORED TRUCK','ARMY','U-HAU','UHAUL','UHUAL','BED T', 'BEVERAGE TRUCK','BOX', 'BOX T', 'BOX TRUCK', 'BOXTR','TRUCK','TOW', 'TOW T', 'TOW TRUCK', 'TRK', 'TOW TRUCK / WRECKER', 'TOW-T', 'TOWTR','TR','DUMP', 'DUMPS', 'DUMPT'],\n",
    "\"MAIL VEH\" : ['COURI','FED E', 'MAIL','FEDER', 'FEDEX', 'FEDX','UPS T', 'US PO','USP M','USPOS', 'USPS','USPS2', 'POSTA', 'POSTO', 'POIS'],\n",
    "\"PASSENGER VEH\" :['PAS', 'PASS', 'PASSA', 'PASSE', 'PASSENGER VEHICLE','SCHOO', 'SCHOOL BUS', 'BUS', 'COMMU','TRANS','OMNI', 'OMNIB','MOTORIZED HOME'],\n",
    "\"PICKUP\" : ['CHEVO', 'CHEVY','CHASSIS CAB','OPEN BODY','PICK', 'PICK-', 'PICK-UP TRUCK', 'PICKU', 'LUNCH WAGON','PICKUP WITH MOUNTED CAMPER', 'PK', 'FORD','PKUP', 'F550', 'F650','VAB','VANETTE'],\n",
    "\"SUV\" :['SUB','4 RUN','SUBN', 'SUBN/', 'SUBUR', 'SUV','JEEP','SPORT UTILITY / STATION WAGON', 'STATION WAGON/SPORT UTILITY VEHICLE','MINI', 'MINIV'],\n",
    "\"COMM VEH\": ['FLAT','BUDGE', 'FLAT BED','CO', 'COM', 'COM T', 'COM.', 'COMB', 'COMER','COMM', 'COMM.', 'COMME','TANKE','FLAT RACK','CARGO',\n",
    "           'FLAT/', 'FLATB','FREIG', 'FRHT', 'FRIEG','FB','HINO','2 TON','35 FT','DIESE','MULTI-WHEELED VEHICLE','SEMI', 'SEMI-','MOVIN','OIL T',\n",
    "           'TANKER','TANK','TRACTOR TRUCK GASOLINE','RYDER','SMALL COM VEH(4 TIRES) ','LARGE COM VEH(6 OR MORE TIRES)',\n",
    "           'COMMM','TRAC', 'TRAC.', 'TRACK', 'TRACT','TRACTOR TRUCK DIESEL','TRL', 'TRLPM', 'TRLR','\\x7fOMM'],\n",
    "\"TAXI\" :['TAXI','YELLO','CAB','LIMO', 'LIMOU', 'LIVER','LIVERY VEHICLE'],\"UNKOWN\" :['UKN','UNK', 'UNKNO', 'UNKNOWN', 'UNKOW'],\n",
    "\"SCOOTER\" :['MOPAD', 'MOPD', 'MOPED','2 WHE','3 WHE','3-DOOR','SCOO','3D', 'SCOOT','SCOOTER','MOTORSCOOTER','VESPA'],\n",
    "\"ELECTRIC VEH\" :['E BIK', 'E COM', 'E ONE', 'E SCO', 'E- BI', 'E-BIK','E-MOT', 'E-SCO','E/BIK','EBIKE', 'ECONO', 'ELEC.', 'ELECT','SGWS','SEGWA']}\n",
    "\n",
    "def getCategory(a):\n",
    "    for i in cat_dict.keys(): #reaching the keys of dict\n",
    "#         print(i)\n",
    "        for x in cat_dict[i]:\n",
    "#             print(x)\n",
    "            a =a.replace(x,i)\n",
    "    return a"
   ]
  },
  {
   "cell_type": "code",
   "execution_count": null,
   "metadata": {},
   "outputs": [],
   "source": []
  }
 ],
 "metadata": {
  "kernelspec": {
   "display_name": "Python 3",
   "language": "python",
   "name": "python3"
  },
  "language_info": {
   "codemirror_mode": {
    "name": "ipython",
    "version": 3
   },
   "file_extension": ".py",
   "mimetype": "text/x-python",
   "name": "python",
   "nbconvert_exporter": "python",
   "pygments_lexer": "ipython3",
   "version": "3.7.3"
  }
 },
 "nbformat": 4,
 "nbformat_minor": 2
}
